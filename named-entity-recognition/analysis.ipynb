{
 "cells": [
  {
   "cell_type": "code",
   "execution_count": 60,
   "metadata": {},
   "outputs": [],
   "source": [
    "from scripts.sequence_labeling import f1_score, precision_score, recall_score, get_entities\n",
    "from scripts.scheme import IOB2\n",
    "import pandas as pd\n",
    "import numpy as np\n",
    "from collections import defaultdict\n",
    "import seaborn as sns\n",
    "import matplotlib.pyplot as plt\n",
    "from tabulate import tabulate\n",
    "import pickle"
   ]
  },
  {
   "cell_type": "markdown",
   "metadata": {},
   "source": [
    "### 1. Read the predictions and the gold labels of the test set"
   ]
  },
  {
   "cell_type": "code",
   "execution_count": 2,
   "metadata": {},
   "outputs": [
    {
     "data": {
      "text/html": [
       "<div>\n",
       "<style scoped>\n",
       "    .dataframe tbody tr th:only-of-type {\n",
       "        vertical-align: middle;\n",
       "    }\n",
       "\n",
       "    .dataframe tbody tr th {\n",
       "        vertical-align: top;\n",
       "    }\n",
       "\n",
       "    .dataframe thead th {\n",
       "        text-align: right;\n",
       "    }\n",
       "</style>\n",
       "<table border=\"1\" class=\"dataframe\">\n",
       "  <thead>\n",
       "    <tr style=\"text-align: right;\">\n",
       "      <th></th>\n",
       "      <th>word</th>\n",
       "      <th>label</th>\n",
       "    </tr>\n",
       "  </thead>\n",
       "  <tbody>\n",
       "    <tr>\n",
       "      <th>0</th>\n",
       "      <td>032890433</td>\n",
       "      <td>O</td>\n",
       "    </tr>\n",
       "    <tr>\n",
       "      <th>1</th>\n",
       "      <td>CTMC</td>\n",
       "      <td>O</td>\n",
       "    </tr>\n",
       "    <tr>\n",
       "      <th>2</th>\n",
       "      <td>75066875</td>\n",
       "      <td>O</td>\n",
       "    </tr>\n",
       "    <tr>\n",
       "      <th>3</th>\n",
       "      <td>828710</td>\n",
       "      <td>O</td>\n",
       "    </tr>\n",
       "    <tr>\n",
       "      <th>4</th>\n",
       "      <td>02/21/1991</td>\n",
       "      <td>O</td>\n",
       "    </tr>\n",
       "    <tr>\n",
       "      <th>5</th>\n",
       "      <td>12:00:00</td>\n",
       "      <td>O</td>\n",
       "    </tr>\n",
       "    <tr>\n",
       "      <th>6</th>\n",
       "      <td>AM</td>\n",
       "      <td>O</td>\n",
       "    </tr>\n",
       "    <tr>\n",
       "      <th>7</th>\n",
       "      <td>Discharge</td>\n",
       "      <td>O</td>\n",
       "    </tr>\n",
       "    <tr>\n",
       "      <th>8</th>\n",
       "      <td>Summary</td>\n",
       "      <td>O</td>\n",
       "    </tr>\n",
       "    <tr>\n",
       "      <th>9</th>\n",
       "      <td>Unsigned</td>\n",
       "      <td>O</td>\n",
       "    </tr>\n",
       "  </tbody>\n",
       "</table>\n",
       "</div>"
      ],
      "text/plain": [
       "         word label\n",
       "0   032890433     O\n",
       "1        CTMC     O\n",
       "2    75066875     O\n",
       "3      828710     O\n",
       "4  02/21/1991     O\n",
       "5    12:00:00     O\n",
       "6          AM     O\n",
       "7   Discharge     O\n",
       "8     Summary     O\n",
       "9    Unsigned     O"
      ]
     },
     "execution_count": 2,
     "metadata": {},
     "output_type": "execute_result"
    }
   ],
   "source": [
    "preds = pd.read_csv('./output/i2b2-2010/test_predictions.txt', delimiter=\" \", header = None)\n",
    "preds.columns = [\"word\", \"label\"]\n",
    "golds = pd.read_csv('../datasets/NER/i2b2-2010/processed/merged/test.txt', delimiter=\" \", header = None)\n",
    "golds.columns = [\"word\", \"label\"]\n",
    "preds.head(10)"
   ]
  },
  {
   "cell_type": "markdown",
   "metadata": {},
   "source": [
    "#### 1.1 Make sure the words in preds and golds are correctly stored and of the same order\n",
    "- you might need to replace all of the double quotes to single quotes in both test_predictions.txt and test.txt"
   ]
  },
  {
   "cell_type": "code",
   "execution_count": 3,
   "metadata": {},
   "outputs": [
    {
     "name": "stdout",
     "output_type": "stream",
     "text": [
      "20\n"
     ]
    },
    {
     "data": {
      "text/html": [
       "<div>\n",
       "<style scoped>\n",
       "    .dataframe tbody tr th:only-of-type {\n",
       "        vertical-align: middle;\n",
       "    }\n",
       "\n",
       "    .dataframe tbody tr th {\n",
       "        vertical-align: top;\n",
       "    }\n",
       "\n",
       "    .dataframe thead th {\n",
       "        text-align: right;\n",
       "    }\n",
       "</style>\n",
       "<table border=\"1\" class=\"dataframe\">\n",
       "  <thead>\n",
       "    <tr style=\"text-align: right;\">\n",
       "      <th></th>\n",
       "      <th>preds word</th>\n",
       "      <th>preds label</th>\n",
       "      <th>golds word</th>\n",
       "      <th>golds label</th>\n",
       "    </tr>\n",
       "  </thead>\n",
       "  <tbody>\n",
       "    <tr>\n",
       "      <th>8204</th>\n",
       "      <td>NaN</td>\n",
       "      <td>O</td>\n",
       "      <td>NaN</td>\n",
       "      <td>O</td>\n",
       "    </tr>\n",
       "    <tr>\n",
       "      <th>52252</th>\n",
       "      <td>NaN</td>\n",
       "      <td>O</td>\n",
       "      <td>NaN</td>\n",
       "      <td>O</td>\n",
       "    </tr>\n",
       "    <tr>\n",
       "      <th>52256</th>\n",
       "      <td>NaN</td>\n",
       "      <td>O</td>\n",
       "      <td>NaN</td>\n",
       "      <td>O</td>\n",
       "    </tr>\n",
       "    <tr>\n",
       "      <th>52260</th>\n",
       "      <td>NaN</td>\n",
       "      <td>O</td>\n",
       "      <td>NaN</td>\n",
       "      <td>O</td>\n",
       "    </tr>\n",
       "    <tr>\n",
       "      <th>52264</th>\n",
       "      <td>NaN</td>\n",
       "      <td>O</td>\n",
       "      <td>NaN</td>\n",
       "      <td>O</td>\n",
       "    </tr>\n",
       "    <tr>\n",
       "      <th>68028</th>\n",
       "      <td>NaN</td>\n",
       "      <td>O</td>\n",
       "      <td>NaN</td>\n",
       "      <td>O</td>\n",
       "    </tr>\n",
       "    <tr>\n",
       "      <th>74544</th>\n",
       "      <td>NaN</td>\n",
       "      <td>O</td>\n",
       "      <td>NaN</td>\n",
       "      <td>O</td>\n",
       "    </tr>\n",
       "    <tr>\n",
       "      <th>74548</th>\n",
       "      <td>NaN</td>\n",
       "      <td>O</td>\n",
       "      <td>NaN</td>\n",
       "      <td>O</td>\n",
       "    </tr>\n",
       "    <tr>\n",
       "      <th>150016</th>\n",
       "      <td>NaN</td>\n",
       "      <td>O</td>\n",
       "      <td>NaN</td>\n",
       "      <td>O</td>\n",
       "    </tr>\n",
       "    <tr>\n",
       "      <th>166888</th>\n",
       "      <td>NaN</td>\n",
       "      <td>O</td>\n",
       "      <td>NaN</td>\n",
       "      <td>O</td>\n",
       "    </tr>\n",
       "    <tr>\n",
       "      <th>182618</th>\n",
       "      <td>NaN</td>\n",
       "      <td>O</td>\n",
       "      <td>NaN</td>\n",
       "      <td>O</td>\n",
       "    </tr>\n",
       "    <tr>\n",
       "      <th>182631</th>\n",
       "      <td>NaN</td>\n",
       "      <td>O</td>\n",
       "      <td>NaN</td>\n",
       "      <td>O</td>\n",
       "    </tr>\n",
       "    <tr>\n",
       "      <th>182635</th>\n",
       "      <td>NaN</td>\n",
       "      <td>O</td>\n",
       "      <td>NaN</td>\n",
       "      <td>O</td>\n",
       "    </tr>\n",
       "    <tr>\n",
       "      <th>182639</th>\n",
       "      <td>NaN</td>\n",
       "      <td>O</td>\n",
       "      <td>NaN</td>\n",
       "      <td>O</td>\n",
       "    </tr>\n",
       "    <tr>\n",
       "      <th>203652</th>\n",
       "      <td>NaN</td>\n",
       "      <td>O</td>\n",
       "      <td>NaN</td>\n",
       "      <td>O</td>\n",
       "    </tr>\n",
       "    <tr>\n",
       "      <th>208003</th>\n",
       "      <td>NaN</td>\n",
       "      <td>O</td>\n",
       "      <td>NaN</td>\n",
       "      <td>O</td>\n",
       "    </tr>\n",
       "    <tr>\n",
       "      <th>216531</th>\n",
       "      <td>NaN</td>\n",
       "      <td>O</td>\n",
       "      <td>NaN</td>\n",
       "      <td>O</td>\n",
       "    </tr>\n",
       "    <tr>\n",
       "      <th>216574</th>\n",
       "      <td>NaN</td>\n",
       "      <td>O</td>\n",
       "      <td>NaN</td>\n",
       "      <td>O</td>\n",
       "    </tr>\n",
       "    <tr>\n",
       "      <th>216578</th>\n",
       "      <td>NaN</td>\n",
       "      <td>O</td>\n",
       "      <td>NaN</td>\n",
       "      <td>O</td>\n",
       "    </tr>\n",
       "    <tr>\n",
       "      <th>219922</th>\n",
       "      <td>NaN</td>\n",
       "      <td>O</td>\n",
       "      <td>NaN</td>\n",
       "      <td>O</td>\n",
       "    </tr>\n",
       "  </tbody>\n",
       "</table>\n",
       "</div>"
      ],
      "text/plain": [
       "       preds word preds label golds word golds label\n",
       "8204          NaN           O        NaN           O\n",
       "52252         NaN           O        NaN           O\n",
       "52256         NaN           O        NaN           O\n",
       "52260         NaN           O        NaN           O\n",
       "52264         NaN           O        NaN           O\n",
       "68028         NaN           O        NaN           O\n",
       "74544         NaN           O        NaN           O\n",
       "74548         NaN           O        NaN           O\n",
       "150016        NaN           O        NaN           O\n",
       "166888        NaN           O        NaN           O\n",
       "182618        NaN           O        NaN           O\n",
       "182631        NaN           O        NaN           O\n",
       "182635        NaN           O        NaN           O\n",
       "182639        NaN           O        NaN           O\n",
       "203652        NaN           O        NaN           O\n",
       "208003        NaN           O        NaN           O\n",
       "216531        NaN           O        NaN           O\n",
       "216574        NaN           O        NaN           O\n",
       "216578        NaN           O        NaN           O\n",
       "219922        NaN           O        NaN           O"
      ]
     },
     "execution_count": 3,
     "metadata": {},
     "output_type": "execute_result"
    }
   ],
   "source": [
    "df1 = preds[preds['word']!=golds['word']]\n",
    "df2 = golds[preds['word']!=golds['word']]\n",
    "dfs = pd.concat([df1,df2], axis=1)\n",
    "dfs.columns = [\"preds word\", \"preds label\", \"golds word\", \"golds label\"]\n",
    "print(len(dfs))\n",
    "dfs"
   ]
  },
  {
   "cell_type": "markdown",
   "metadata": {},
   "source": [
    "- these \"NaN\" are the \"n/a\" in the text, they cannot be read properly by pandas but that makes no harm to our analysis since none of them belongs to the entities. Thus, we can just leave it\n",
    "- And this cannot be solved by the \"na_values\" attribute in read_csv, since it's used to specify the additional NaN values but not modify the default ones"
   ]
  },
  {
   "cell_type": "markdown",
   "metadata": {},
   "source": [
    "### 2. Check the frequency of each classes to see if they are balanced"
   ]
  },
  {
   "cell_type": "markdown",
   "metadata": {},
   "source": [
    "#### 2.1 number of negatives (tag O) VS number of positives (tag B and I)"
   ]
  },
  {
   "cell_type": "code",
   "execution_count": 4,
   "metadata": {},
   "outputs": [],
   "source": [
    "# get the BIO tags and classes in new columns\n",
    "preds['BIO'] = preds['label'].str.split('-').str[0]\n",
    "golds['BIO'] = golds['label'].str.split('-').str[0]\n",
    "preds['class'] = preds['label'].str.split('-').str[1].fillna('O')\n",
    "golds['class'] = golds['label'].str.split('-').str[1].fillna('O')\n",
    "# preds.head(30)"
   ]
  },
  {
   "cell_type": "code",
   "execution_count": 5,
   "metadata": {},
   "outputs": [],
   "source": [
    "# prepare the dataframe to see the tag balance in preds and golds\n",
    "df_p = preds\n",
    "df_p['type'] = 'pred'\n",
    "df_g = golds\n",
    "df_g['type'] = 'gold'\n",
    "df_all = pd.concat([df_p,df_g], axis=0)\n",
    "# df_all"
   ]
  },
  {
   "cell_type": "code",
   "execution_count": 6,
   "metadata": {},
   "outputs": [
    {
     "data": {
      "text/plain": [
       "<AxesSubplot:xlabel='BIO', ylabel='count'>"
      ]
     },
     "execution_count": 6,
     "metadata": {},
     "output_type": "execute_result"
    },
    {
     "data": {
      "image/png": "[encoded data removed]",
      "text/plain": [
       "<Figure size 432x288 with 1 Axes>"
      ]
     },
     "metadata": {
      "needs_background": "light"
     },
     "output_type": "display_data"
    }
   ],
   "source": [
    "sns.countplot(x='BIO', hue='type', data=df_all)"
   ]
  },
  {
   "cell_type": "code",
   "execution_count": 7,
   "metadata": {},
   "outputs": [
    {
     "name": "stdout",
     "output_type": "stream",
     "text": [
      "In preds, the ratio of #Neg(O) and #Pos(B,I) is 3.1216262068540055\n",
      "In golds, the ratio of #Neg(O) and #Pos(B,I) is 3.12397956821654\n"
     ]
    }
   ],
   "source": [
    "print(f\"In preds, the ratio of #Neg(O) and #Pos(B,I) is {preds['BIO'].value_counts()['O']/(preds['BIO'].value_counts()['B']+preds['BIO'].value_counts()['I'])}\")\n",
    "print(f\"In golds, the ratio of #Neg(O) and #Pos(B,I) is {golds['BIO'].value_counts()['O']/(golds['BIO'].value_counts()['B']+golds['BIO'].value_counts()['I'])}\")"
   ]
  },
  {
   "cell_type": "markdown",
   "metadata": {},
   "source": [
    "#### 2.2 #O VS #problem VS #test VS #treatment"
   ]
  },
  {
   "cell_type": "code",
   "execution_count": 8,
   "metadata": {},
   "outputs": [
    {
     "data": {
      "text/html": [
       "<div>\n",
       "<style scoped>\n",
       "    .dataframe tbody tr th:only-of-type {\n",
       "        vertical-align: middle;\n",
       "    }\n",
       "\n",
       "    .dataframe tbody tr th {\n",
       "        vertical-align: top;\n",
       "    }\n",
       "\n",
       "    .dataframe thead th {\n",
       "        text-align: right;\n",
       "    }\n",
       "</style>\n",
       "<table border=\"1\" class=\"dataframe\">\n",
       "  <thead>\n",
       "    <tr style=\"text-align: right;\">\n",
       "      <th></th>\n",
       "      <th>word</th>\n",
       "      <th>label</th>\n",
       "      <th>BIO</th>\n",
       "      <th>class</th>\n",
       "      <th>type</th>\n",
       "    </tr>\n",
       "  </thead>\n",
       "  <tbody>\n",
       "    <tr>\n",
       "      <th>0</th>\n",
       "      <td>032890433</td>\n",
       "      <td>O</td>\n",
       "      <td>O</td>\n",
       "      <td>O</td>\n",
       "      <td>pred</td>\n",
       "    </tr>\n",
       "    <tr>\n",
       "      <th>1</th>\n",
       "      <td>CTMC</td>\n",
       "      <td>O</td>\n",
       "      <td>O</td>\n",
       "      <td>O</td>\n",
       "      <td>pred</td>\n",
       "    </tr>\n",
       "    <tr>\n",
       "      <th>2</th>\n",
       "      <td>75066875</td>\n",
       "      <td>O</td>\n",
       "      <td>O</td>\n",
       "      <td>O</td>\n",
       "      <td>pred</td>\n",
       "    </tr>\n",
       "    <tr>\n",
       "      <th>3</th>\n",
       "      <td>828710</td>\n",
       "      <td>O</td>\n",
       "      <td>O</td>\n",
       "      <td>O</td>\n",
       "      <td>pred</td>\n",
       "    </tr>\n",
       "    <tr>\n",
       "      <th>4</th>\n",
       "      <td>02/21/1991</td>\n",
       "      <td>O</td>\n",
       "      <td>O</td>\n",
       "      <td>O</td>\n",
       "      <td>pred</td>\n",
       "    </tr>\n",
       "    <tr>\n",
       "      <th>...</th>\n",
       "      <td>...</td>\n",
       "      <td>...</td>\n",
       "      <td>...</td>\n",
       "      <td>...</td>\n",
       "      <td>...</td>\n",
       "    </tr>\n",
       "    <tr>\n",
       "      <th>267233</th>\n",
       "      <td>(</td>\n",
       "      <td>O</td>\n",
       "      <td>O</td>\n",
       "      <td>O</td>\n",
       "      <td>gold</td>\n",
       "    </tr>\n",
       "    <tr>\n",
       "      <th>267234</th>\n",
       "      <td>End</td>\n",
       "      <td>O</td>\n",
       "      <td>O</td>\n",
       "      <td>O</td>\n",
       "      <td>gold</td>\n",
       "    </tr>\n",
       "    <tr>\n",
       "      <th>267235</th>\n",
       "      <td>of</td>\n",
       "      <td>O</td>\n",
       "      <td>O</td>\n",
       "      <td>O</td>\n",
       "      <td>gold</td>\n",
       "    </tr>\n",
       "    <tr>\n",
       "      <th>267236</th>\n",
       "      <td>Report</td>\n",
       "      <td>O</td>\n",
       "      <td>O</td>\n",
       "      <td>O</td>\n",
       "      <td>gold</td>\n",
       "    </tr>\n",
       "    <tr>\n",
       "      <th>267237</th>\n",
       "      <td>)</td>\n",
       "      <td>O</td>\n",
       "      <td>O</td>\n",
       "      <td>O</td>\n",
       "      <td>gold</td>\n",
       "    </tr>\n",
       "  </tbody>\n",
       "</table>\n",
       "<p>534476 rows × 5 columns</p>\n",
       "</div>"
      ],
      "text/plain": [
       "              word label BIO class  type\n",
       "0        032890433     O   O     O  pred\n",
       "1             CTMC     O   O     O  pred\n",
       "2         75066875     O   O     O  pred\n",
       "3           828710     O   O     O  pred\n",
       "4       02/21/1991     O   O     O  pred\n",
       "...            ...   ...  ..   ...   ...\n",
       "267233           (     O   O     O  gold\n",
       "267234         End     O   O     O  gold\n",
       "267235          of     O   O     O  gold\n",
       "267236      Report     O   O     O  gold\n",
       "267237           )     O   O     O  gold\n",
       "\n",
       "[534476 rows x 5 columns]"
      ]
     },
     "execution_count": 8,
     "metadata": {},
     "output_type": "execute_result"
    }
   ],
   "source": [
    "df_all"
   ]
  },
  {
   "cell_type": "code",
   "execution_count": 9,
   "metadata": {},
   "outputs": [
    {
     "data": {
      "text/plain": [
       "<AxesSubplot:xlabel='class', ylabel='count'>"
      ]
     },
     "execution_count": 9,
     "metadata": {},
     "output_type": "execute_result"
    },
    {
     "data": {
      "image/png": "[encoded data removed]",
      "text/plain": [
       "<Figure size 432x288 with 1 Axes>"
      ]
     },
     "metadata": {
      "needs_background": "light"
     },
     "output_type": "display_data"
    }
   ],
   "source": [
    "sns.countplot(x='class', hue='type', data=df_all)"
   ]
  },
  {
   "cell_type": "code",
   "execution_count": 10,
   "metadata": {},
   "outputs": [
    {
     "name": "stdout",
     "output_type": "stream",
     "text": [
      "Proportions of different entity class in preds: PROBLEM 47.49%, TEST 26.38%, TREATMENT 26.14%\n",
      "Proportions of different entity class in golds: PROBLEM 46.71%, TEST 26.60%, TREATMENT 26.69%\n"
     ]
    }
   ],
   "source": [
    "n_preds = preds['class'].value_counts()['problem'] + preds['class'].value_counts()['test'] + preds['class'].value_counts()['treatment']\n",
    "n_golds = golds['class'].value_counts()['problem'] + golds['class'].value_counts()['test'] + golds['class'].value_counts()['treatment']\n",
    "print(f\"Proportions of different entity class in preds: PROBLEM {(preds['class'].value_counts()['problem']/n_preds):.2%}, TEST {(preds['class'].value_counts()['test']/n_preds):.2%}, TREATMENT {(preds['class'].value_counts()['treatment']/n_preds):.2%}\")\n",
    "print(f\"Proportions of different entity class in golds: PROBLEM {(golds['class'].value_counts()['problem']/n_golds):.2%}, TEST {(golds['class'].value_counts()['test']/n_golds):.2%}, TREATMENT {(golds['class'].value_counts()['treatment']/n_golds):.2%}\")"
   ]
  },
  {
   "cell_type": "markdown",
   "metadata": {},
   "source": [
    "- There is imbalance in the classes. The PROBLEM class takes the majority. We could seek the help from Dice Loss, which is a soft version of f1-score that can possibly help narrows down the gap between the f1-score in evalutaion and loss in training"
   ]
  },
  {
   "cell_type": "markdown",
   "metadata": {},
   "source": [
    "#### 2.3 frequency of different classes in the false positives and false negatives"
   ]
  },
  {
   "cell_type": "code",
   "execution_count": 11,
   "metadata": {},
   "outputs": [
    {
     "data": {
      "text/html": [
       "<div>\n",
       "<style scoped>\n",
       "    .dataframe tbody tr th:only-of-type {\n",
       "        vertical-align: middle;\n",
       "    }\n",
       "\n",
       "    .dataframe tbody tr th {\n",
       "        vertical-align: top;\n",
       "    }\n",
       "\n",
       "    .dataframe thead th {\n",
       "        text-align: right;\n",
       "    }\n",
       "</style>\n",
       "<table border=\"1\" class=\"dataframe\">\n",
       "  <thead>\n",
       "    <tr style=\"text-align: right;\">\n",
       "      <th></th>\n",
       "      <th>word</th>\n",
       "      <th>label</th>\n",
       "      <th>BIO</th>\n",
       "      <th>class</th>\n",
       "      <th>type</th>\n",
       "    </tr>\n",
       "  </thead>\n",
       "  <tbody>\n",
       "    <tr>\n",
       "      <th>70</th>\n",
       "      <td>a</td>\n",
       "      <td>B-problem</td>\n",
       "      <td>B</td>\n",
       "      <td>problem</td>\n",
       "      <td>pred</td>\n",
       "    </tr>\n",
       "    <tr>\n",
       "      <th>71</th>\n",
       "      <td>complex</td>\n",
       "      <td>I-problem</td>\n",
       "      <td>I</td>\n",
       "      <td>problem</td>\n",
       "      <td>pred</td>\n",
       "    </tr>\n",
       "    <tr>\n",
       "      <th>72</th>\n",
       "      <td>left</td>\n",
       "      <td>I-problem</td>\n",
       "      <td>I</td>\n",
       "      <td>problem</td>\n",
       "      <td>pred</td>\n",
       "    </tr>\n",
       "    <tr>\n",
       "      <th>73</th>\n",
       "      <td>renal</td>\n",
       "      <td>I-problem</td>\n",
       "      <td>I</td>\n",
       "      <td>problem</td>\n",
       "      <td>pred</td>\n",
       "    </tr>\n",
       "    <tr>\n",
       "      <th>74</th>\n",
       "      <td>mass</td>\n",
       "      <td>I-problem</td>\n",
       "      <td>I</td>\n",
       "      <td>problem</td>\n",
       "      <td>pred</td>\n",
       "    </tr>\n",
       "    <tr>\n",
       "      <th>75</th>\n",
       "      <td>.</td>\n",
       "      <td>O</td>\n",
       "      <td>O</td>\n",
       "      <td>O</td>\n",
       "      <td>pred</td>\n",
       "    </tr>\n",
       "    <tr>\n",
       "      <th>76</th>\n",
       "      <td>A</td>\n",
       "      <td>B-test</td>\n",
       "      <td>B</td>\n",
       "      <td>test</td>\n",
       "      <td>pred</td>\n",
       "    </tr>\n",
       "    <tr>\n",
       "      <th>77</th>\n",
       "      <td>computerized</td>\n",
       "      <td>I-test</td>\n",
       "      <td>I</td>\n",
       "      <td>test</td>\n",
       "      <td>pred</td>\n",
       "    </tr>\n",
       "    <tr>\n",
       "      <th>78</th>\n",
       "      <td>tomography</td>\n",
       "      <td>I-test</td>\n",
       "      <td>I</td>\n",
       "      <td>test</td>\n",
       "      <td>pred</td>\n",
       "    </tr>\n",
       "    <tr>\n",
       "      <th>79</th>\n",
       "      <td>scan</td>\n",
       "      <td>I-test</td>\n",
       "      <td>I</td>\n",
       "      <td>test</td>\n",
       "      <td>pred</td>\n",
       "    </tr>\n",
       "    <tr>\n",
       "      <th>80</th>\n",
       "      <td>demonstrated</td>\n",
       "      <td>O</td>\n",
       "      <td>O</td>\n",
       "      <td>O</td>\n",
       "      <td>pred</td>\n",
       "    </tr>\n",
       "    <tr>\n",
       "      <th>81</th>\n",
       "      <td>a</td>\n",
       "      <td>B-problem</td>\n",
       "      <td>B</td>\n",
       "      <td>problem</td>\n",
       "      <td>pred</td>\n",
       "    </tr>\n",
       "    <tr>\n",
       "      <th>82</th>\n",
       "      <td>contrast</td>\n",
       "      <td>I-problem</td>\n",
       "      <td>I</td>\n",
       "      <td>problem</td>\n",
       "      <td>pred</td>\n",
       "    </tr>\n",
       "    <tr>\n",
       "      <th>83</th>\n",
       "      <td>enhancing</td>\n",
       "      <td>I-problem</td>\n",
       "      <td>I</td>\n",
       "      <td>problem</td>\n",
       "      <td>pred</td>\n",
       "    </tr>\n",
       "    <tr>\n",
       "      <th>84</th>\n",
       "      <td>complex</td>\n",
       "      <td>I-problem</td>\n",
       "      <td>I</td>\n",
       "      <td>problem</td>\n",
       "      <td>pred</td>\n",
       "    </tr>\n",
       "    <tr>\n",
       "      <th>85</th>\n",
       "      <td>left</td>\n",
       "      <td>I-problem</td>\n",
       "      <td>I</td>\n",
       "      <td>problem</td>\n",
       "      <td>pred</td>\n",
       "    </tr>\n",
       "    <tr>\n",
       "      <th>86</th>\n",
       "      <td>renal</td>\n",
       "      <td>I-problem</td>\n",
       "      <td>I</td>\n",
       "      <td>problem</td>\n",
       "      <td>pred</td>\n",
       "    </tr>\n",
       "    <tr>\n",
       "      <th>87</th>\n",
       "      <td>mass</td>\n",
       "      <td>I-problem</td>\n",
       "      <td>I</td>\n",
       "      <td>problem</td>\n",
       "      <td>pred</td>\n",
       "    </tr>\n",
       "    <tr>\n",
       "      <th>88</th>\n",
       "      <td>.</td>\n",
       "      <td>O</td>\n",
       "      <td>O</td>\n",
       "      <td>O</td>\n",
       "      <td>pred</td>\n",
       "    </tr>\n",
       "    <tr>\n",
       "      <th>89</th>\n",
       "      <td>Metastatic</td>\n",
       "      <td>B-test</td>\n",
       "      <td>B</td>\n",
       "      <td>test</td>\n",
       "      <td>pred</td>\n",
       "    </tr>\n",
       "  </tbody>\n",
       "</table>\n",
       "</div>"
      ],
      "text/plain": [
       "            word      label BIO    class  type\n",
       "70             a  B-problem   B  problem  pred\n",
       "71       complex  I-problem   I  problem  pred\n",
       "72          left  I-problem   I  problem  pred\n",
       "73         renal  I-problem   I  problem  pred\n",
       "74          mass  I-problem   I  problem  pred\n",
       "75             .          O   O        O  pred\n",
       "76             A     B-test   B     test  pred\n",
       "77  computerized     I-test   I     test  pred\n",
       "78    tomography     I-test   I     test  pred\n",
       "79          scan     I-test   I     test  pred\n",
       "80  demonstrated          O   O        O  pred\n",
       "81             a  B-problem   B  problem  pred\n",
       "82      contrast  I-problem   I  problem  pred\n",
       "83     enhancing  I-problem   I  problem  pred\n",
       "84       complex  I-problem   I  problem  pred\n",
       "85          left  I-problem   I  problem  pred\n",
       "86         renal  I-problem   I  problem  pred\n",
       "87          mass  I-problem   I  problem  pred\n",
       "88             .          O   O        O  pred\n",
       "89    Metastatic     B-test   B     test  pred"
      ]
     },
     "execution_count": 11,
     "metadata": {},
     "output_type": "execute_result"
    }
   ],
   "source": [
    "df_p[70:90]"
   ]
  },
  {
   "cell_type": "code",
   "execution_count": 12,
   "metadata": {},
   "outputs": [],
   "source": [
    "def capture_lines(df, column):\n",
    "    \"\"\"\n",
    "    get sentences/entities in list of list\n",
    "    \"\"\"\n",
    "    sep_list = list(df[df[\"word\"] == \".\"].index)\n",
    "    last_sep = 0\n",
    "    list_sent = []\n",
    "    for _, x in enumerate(sep_list):\n",
    "        sentence = list(df[column][last_sep : x+1])\n",
    "        list_sent.append(sentence)\n",
    "        last_sep = x+1\n",
    "    return list_sent"
   ]
  },
  {
   "cell_type": "code",
   "execution_count": 13,
   "metadata": {},
   "outputs": [
    {
     "name": "stdout",
     "output_type": "stream",
     "text": [
      "example sentence:  7. Neurology : Head ultrasound on day of life seven showed no intraventricular hemorrhage .\n",
      "example entities:  ['O', 'O', 'O', 'B-test', 'I-test', 'O', 'O', 'O', 'O', 'O', 'O', 'O', 'B-problem', 'I-problem', 'O']\n"
     ]
    }
   ],
   "source": [
    "sents_p = capture_lines(df_p, \"word\")\n",
    "sents_g = capture_lines(df_g, \"word\")\n",
    "ents_p = capture_lines(df_p, \"label\")\n",
    "ents_g = capture_lines(df_g, \"label\")\n",
    "# example\n",
    "print(\"example sentence: \", \" \".join(sents_p[70]))\n",
    "print(\"example entities: \",ents_p[70])"
   ]
  },
  {
   "cell_type": "code",
   "execution_count": 14,
   "metadata": {},
   "outputs": [],
   "source": [
    "# def tp_fp_fn_lenient(y_true, y_pred, suffix, *args):\n",
    "# lenient score\n",
    "y_true = ents_g\n",
    "y_pred = ents_p\n",
    "suffix = None\n",
    "entities_true = defaultdict(set)\n",
    "entities_pred = defaultdict(set)\n",
    "for type_name, start, end, _ in get_entities(y_true, suffix):\n",
    "    entities_true[type_name].add((start, end))\n",
    "for type_name, start, end, _ in get_entities(y_pred, suffix):\n",
    "    entities_pred[type_name].add((start, end))\n",
    "target_names = sorted(set(entities_true.keys()) | set(entities_pred.keys()))\n",
    "\n",
    "tp_sum = np.array([], dtype=np.int32)\n",
    "pred_sum = np.array([], dtype=np.int32)\n",
    "true_sum = np.array([], dtype=np.int32)\n",
    "for type_name in target_names:\n",
    "\n",
    "    entities_true_type = sorted(entities_true.get(type_name, set()))\n",
    "    entities_pred_type = sorted(entities_pred.get(type_name, set()))\n",
    "    tp = 0\n",
    "    for idt, xt in enumerate(entities_true_type):\n",
    "        for idp, xp in enumerate(entities_pred_type):\n",
    "            if (xp[0] < xt[1] and xp[1] > xt[0]) or (xp[0] == xp[1] == xt[0] == xt[1]):\n",
    "                tp += 1\n",
    "                break\n",
    "    tp_sum = np.append(tp_sum, tp)\n",
    "    pred_sum = np.append(pred_sum, len(entities_pred_type))\n",
    "    true_sum = np.append(true_sum, len(entities_true_type))\n",
    "    fp_sum = pred_sum - tp_sum\n",
    "    fn_sum = true_sum - tp_sum\n",
    "\n",
    "    # return pred_sum, tp_sum, true_sum"
   ]
  },
  {
   "cell_type": "code",
   "execution_count": 15,
   "metadata": {},
   "outputs": [],
   "source": [
    "nw = np.append(fp_sum,fn_sum)"
   ]
  },
  {
   "cell_type": "code",
   "execution_count": 16,
   "metadata": {},
   "outputs": [
    {
     "data": {
      "text/html": [
       "<div>\n",
       "<style scoped>\n",
       "    .dataframe tbody tr th:only-of-type {\n",
       "        vertical-align: middle;\n",
       "    }\n",
       "\n",
       "    .dataframe tbody tr th {\n",
       "        vertical-align: top;\n",
       "    }\n",
       "\n",
       "    .dataframe thead th {\n",
       "        text-align: right;\n",
       "    }\n",
       "</style>\n",
       "<table border=\"1\" class=\"dataframe\">\n",
       "  <thead>\n",
       "    <tr style=\"text-align: right;\">\n",
       "      <th></th>\n",
       "      <th>class</th>\n",
       "      <th>count</th>\n",
       "      <th>type</th>\n",
       "    </tr>\n",
       "  </thead>\n",
       "  <tbody>\n",
       "    <tr>\n",
       "      <th>0</th>\n",
       "      <td>problem</td>\n",
       "      <td>1327</td>\n",
       "      <td>FP</td>\n",
       "    </tr>\n",
       "    <tr>\n",
       "      <th>1</th>\n",
       "      <td>test</td>\n",
       "      <td>1093</td>\n",
       "      <td>FP</td>\n",
       "    </tr>\n",
       "    <tr>\n",
       "      <th>2</th>\n",
       "      <td>treatment</td>\n",
       "      <td>1040</td>\n",
       "      <td>FP</td>\n",
       "    </tr>\n",
       "    <tr>\n",
       "      <th>3</th>\n",
       "      <td>problem</td>\n",
       "      <td>885</td>\n",
       "      <td>FN</td>\n",
       "    </tr>\n",
       "    <tr>\n",
       "      <th>4</th>\n",
       "      <td>test</td>\n",
       "      <td>998</td>\n",
       "      <td>FN</td>\n",
       "    </tr>\n",
       "    <tr>\n",
       "      <th>5</th>\n",
       "      <td>treatment</td>\n",
       "      <td>926</td>\n",
       "      <td>FN</td>\n",
       "    </tr>\n",
       "  </tbody>\n",
       "</table>\n",
       "</div>"
      ],
      "text/plain": [
       "       class  count type\n",
       "0    problem   1327   FP\n",
       "1       test   1093   FP\n",
       "2  treatment   1040   FP\n",
       "3    problem    885   FN\n",
       "4       test    998   FN\n",
       "5  treatment    926   FN"
      ]
     },
     "execution_count": 16,
     "metadata": {},
     "output_type": "execute_result"
    }
   ],
   "source": [
    "df_error = pd.DataFrame(columns=['class', 'count', 'type'])\n",
    "# # df_error['type'] = \"fp\"\n",
    "# df_error = pd.concat((df_error, pd.DataFrame(fn_sum.reshape(1,-1), columns=['problem', 'test', 'treatment'])), axis=0, ignore_index=True)\n",
    "# # df_error.at[1,'type'] = \"fn\"\n",
    "# df_error = df_error.rename(index={0:'fp',1:'fn'})\n",
    "df_error['class'] = ['problem','test','treatment','problem','test','treatment']\n",
    "df_error['count'] = nw\n",
    "df_error['type'] = ['FP','FP','FP','FN','FN','FN']\n",
    "df_error"
   ]
  },
  {
   "cell_type": "code",
   "execution_count": 17,
   "metadata": {},
   "outputs": [
    {
     "data": {
      "image/png": "[encoded data removed]",
      "text/plain": [
       "<Figure size 432x288 with 1 Axes>"
      ]
     },
     "metadata": {
      "needs_background": "light"
     },
     "output_type": "display_data"
    }
   ],
   "source": [
    "plots = sns.barplot(x='class', y='count',hue='type',data=df_error)\n",
    "# Iterrating over the bars one-by-one to add annotations\n",
    "for bar in plots.patches:\n",
    "    plots.annotate(format(int(bar.get_height())),\n",
    "                   (bar.get_x() + bar.get_width() / 2,\n",
    "                    bar.get_height()), ha='center', va='center',\n",
    "                   size=10, xytext=(0, 5),\n",
    "                   textcoords='offset points')"
   ]
  },
  {
   "cell_type": "code",
   "execution_count": 18,
   "metadata": {},
   "outputs": [
    {
     "name": "stdout",
     "output_type": "stream",
     "text": [
      "Proportions of different entity class in False Positives: PROBLEM 38.35%, TEST 31.59%, TREATMENT 30.06%\n",
      "Proportions of different entity class in False Negatives: PROBLEM 31.51%, TEST 35.53%, TREATMENT 32.97%\n"
     ]
    }
   ],
   "source": [
    "print(f\"Proportions of different entity class in False Positives: PROBLEM {(fp_sum[0]/fp_sum.sum()):.2%}, TEST {(fp_sum[1]/fp_sum.sum()):.2%}, TREATMENT {(fp_sum[2]/fp_sum.sum()):.2%}\")\n",
    "print(f\"Proportions of different entity class in False Negatives: PROBLEM {(fn_sum[0]/fn_sum.sum()):.2%}, TEST {(fn_sum[1]/fn_sum.sum()):.2%}, TREATMENT {(fn_sum[2]/fn_sum.sum()):.2%}\")"
   ]
  },
  {
   "cell_type": "markdown",
   "metadata": {},
   "source": [
    "- The model tends to predict more \"problem\" entities while the \"test\" entities are harder to be detected"
   ]
  },
  {
   "cell_type": "markdown",
   "metadata": {},
   "source": [
    "### 3. Locate the error sentences"
   ]
  },
  {
   "cell_type": "code",
   "execution_count": 56,
   "metadata": {},
   "outputs": [],
   "source": [
    "# get the FN and FP dictionaries and save\n",
    "y_true = ents_g\n",
    "y_pred = ents_p\n",
    "suffix = None\n",
    "entities_true = defaultdict(set)\n",
    "entities_pred = defaultdict(set)\n",
    "\n",
    "for type_name, start, end, (sent_id, ent_id) in get_entities(y_true, suffix):\n",
    "    entities_true[type_name].add((start, end, (sent_id, ent_id)))\n",
    "for type_name, start, end, (sent_id, ent_id) in get_entities(y_pred, suffix):\n",
    "    entities_pred[type_name].add((start, end, (sent_id, ent_id)))\n",
    "target_names = sorted(set(entities_true.keys()) | set(entities_pred.keys()))\n",
    "\n",
    "fn = dict()\n",
    "fp = dict()\n",
    "for type_name in target_names:\n",
    "\n",
    "    entities_true_type = sorted(entities_true.get(type_name, set()))\n",
    "    entities_pred_type = sorted(entities_pred.get(type_name, set()))\n",
    "    fn[type_name] = []\n",
    "    fp[type_name] = []\n",
    "\n",
    "    for idt, xt in enumerate(entities_true_type):\n",
    "        mark_match = -1\n",
    "        for idp, xp in enumerate(entities_pred_type):\n",
    "            if (xp[0] < xt[1] and xp[1] > xt[0]) or (xp[0] == xp[1] == xt[0] == xt[1]):\n",
    "                mark_match = idp\n",
    "                break\n",
    "        if idp == len(entities_pred_type)-1 and mark_match == -1:\n",
    "            fn[type_name].append(xt)\n",
    "    \n",
    "    for idp, xp in enumerate(entities_pred_type):\n",
    "        mark_match = -1\n",
    "        for idt, xt in enumerate(entities_true_type):\n",
    "            if (xp[0] < xt[1] and xp[1] > xt[0]) or (xp[0] == xp[1] == xt[0] == xt[1]):\n",
    "                mark_match = idt\n",
    "                break\n",
    "        if idt == len(entities_true_type)-1 and mark_match == -1:\n",
    "            fp[type_name].append(xp)"
   ]
  },
  {
   "cell_type": "code",
   "execution_count": 107,
   "metadata": {},
   "outputs": [],
   "source": [
    "with open('./analysis_2010/fp.json', 'wb') as f:\n",
    "    pickle.dump(fp, f)\n",
    "with open('./analysis_2010/fn.json', 'wb') as f:\n",
    "    pickle.dump(fn, f)"
   ]
  },
  {
   "cell_type": "code",
   "execution_count": 102,
   "metadata": {},
   "outputs": [
    {
     "name": "stdout",
     "output_type": "stream",
     "text": [
      "| We | think | this | is | likely | due | to | an          | SIADH       | as | she | is | euvolemic | . |\n",
      "| O  | O     | O    | O  | O      | O   | O  | B-problem   | I-problem   | O  | O   | O  | O         | O |\n",
      "| O  | O     | O    | O  | O      | O   | O  | B-treatment | I-treatment | O  | O   | O  | B-problem | O |\n"
     ]
    }
   ],
   "source": [
    "error_id = 4\n",
    "sent_id = fn['problem'][error_id][2][0]\n",
    "print(tabulate([sents_g[sent_id],ents_g[sent_id],ents_p[sent_id]], tablefmt='orgtbl'))"
   ]
  },
  {
   "cell_type": "code",
   "execution_count": 77,
   "metadata": {},
   "outputs": [
    {
     "data": {
      "text/html": [
       "<div>\n",
       "<style scoped>\n",
       "    .dataframe tbody tr th:only-of-type {\n",
       "        vertical-align: middle;\n",
       "    }\n",
       "\n",
       "    .dataframe tbody tr th {\n",
       "        vertical-align: top;\n",
       "    }\n",
       "\n",
       "    .dataframe thead th {\n",
       "        text-align: right;\n",
       "    }\n",
       "</style>\n",
       "<table border=\"1\" class=\"dataframe\">\n",
       "  <thead>\n",
       "    <tr style=\"text-align: right;\">\n",
       "      <th></th>\n",
       "      <th>0</th>\n",
       "      <th>1</th>\n",
       "      <th>2</th>\n",
       "      <th>3</th>\n",
       "      <th>4</th>\n",
       "      <th>5</th>\n",
       "      <th>6</th>\n",
       "      <th>7</th>\n",
       "      <th>8</th>\n",
       "      <th>9</th>\n",
       "      <th>10</th>\n",
       "      <th>11</th>\n",
       "      <th>12</th>\n",
       "      <th>13</th>\n",
       "    </tr>\n",
       "  </thead>\n",
       "  <tbody>\n",
       "    <tr>\n",
       "      <th>sentence</th>\n",
       "      <td>We</td>\n",
       "      <td>think</td>\n",
       "      <td>this</td>\n",
       "      <td>is</td>\n",
       "      <td>likely</td>\n",
       "      <td>due</td>\n",
       "      <td>to</td>\n",
       "      <td>an</td>\n",
       "      <td>SIADH</td>\n",
       "      <td>as</td>\n",
       "      <td>she</td>\n",
       "      <td>is</td>\n",
       "      <td>euvolemic</td>\n",
       "      <td>.</td>\n",
       "    </tr>\n",
       "    <tr>\n",
       "      <th>gold</th>\n",
       "      <td>O</td>\n",
       "      <td>O</td>\n",
       "      <td>O</td>\n",
       "      <td>O</td>\n",
       "      <td>O</td>\n",
       "      <td>O</td>\n",
       "      <td>O</td>\n",
       "      <td>B-problem</td>\n",
       "      <td>I-problem</td>\n",
       "      <td>O</td>\n",
       "      <td>O</td>\n",
       "      <td>O</td>\n",
       "      <td>O</td>\n",
       "      <td>O</td>\n",
       "    </tr>\n",
       "    <tr>\n",
       "      <th>pred</th>\n",
       "      <td>O</td>\n",
       "      <td>O</td>\n",
       "      <td>O</td>\n",
       "      <td>O</td>\n",
       "      <td>O</td>\n",
       "      <td>O</td>\n",
       "      <td>O</td>\n",
       "      <td>B-treatment</td>\n",
       "      <td>I-treatment</td>\n",
       "      <td>O</td>\n",
       "      <td>O</td>\n",
       "      <td>O</td>\n",
       "      <td>B-problem</td>\n",
       "      <td>O</td>\n",
       "    </tr>\n",
       "  </tbody>\n",
       "</table>\n",
       "</div>"
      ],
      "text/plain": [
       "          0      1     2   3       4    5   6            7            8   9   \\\n",
       "sentence  We  think  this  is  likely  due  to           an        SIADH  as   \n",
       "gold       O      O     O   O       O    O   O    B-problem    I-problem   O   \n",
       "pred       O      O     O   O       O    O   O  B-treatment  I-treatment   O   \n",
       "\n",
       "           10  11         12 13  \n",
       "sentence  she  is  euvolemic  .  \n",
       "gold        O   O          O  O  \n",
       "pred        O   O  B-problem  O  "
      ]
     },
     "execution_count": 77,
     "metadata": {},
     "output_type": "execute_result"
    }
   ],
   "source": [
    "check_fn = pd.DataFrame([sents_g[sent_id],ents_g[sent_id],ents_p[sent_id]])\n",
    "check_fn = check_fn.rename(index={0:'sentence',1:'gold',2:'pred'})\n",
    "check_fn"
   ]
  },
  {
   "cell_type": "code",
   "execution_count": 143,
   "metadata": {},
   "outputs": [],
   "source": [
    "for error_id in range(len(fn['problem'])):\n",
    "    sent_id = fn['problem'][error_id][2][0]\n",
    "    ent_id = fn['problem'][error_id][2][1]\n",
    "    with open(\"./analysis_2010/fn_analysis/fn_tabular_\"+str(sent_id)+\".txt\", \"a\") as text_file:\n",
    "        text_file.write(f\"FN in entity {ent_id} \\n\")\n",
    "        text_file.write(tabulate([sents_g[sent_id],ents_g[sent_id],ents_p[sent_id]], tablefmt='orgtbl')+'\\n')"
   ]
  },
  {
   "cell_type": "code",
   "execution_count": 145,
   "metadata": {},
   "outputs": [],
   "source": [
    "for error_id in range(len(fp['problem'])):\n",
    "    sent_id = fp['problem'][error_id][2][0]\n",
    "    ent_id = fp['problem'][error_id][2][1]\n",
    "    with open(\"./analysis_2010/fp_analysis/fp_tabular_\"+str(sent_id)+\".txt\", \"a\") as text_file:\n",
    "        text_file.write(f\"FP in entity {ent_id} \\n\")\n",
    "        text_file.write(tabulate([sents_g[sent_id],ents_g[sent_id],ents_p[sent_id]], tablefmt='orgtbl')+'\\n')"
   ]
  },
  {
   "cell_type": "code",
   "execution_count": null,
   "metadata": {},
   "outputs": [],
   "source": []
  }
 ],
 "metadata": {
  "interpreter": {
   "hash": "6dbeaa6d880fbac101fdd1dc6af20c4a4b8811d230a6a6d3bab92a9cff93dc17"
  },
  "kernelspec": {
   "display_name": "Python 3.9.13 ('mybiobert')",
   "language": "python",
   "name": "python3"
  },
  "language_info": {
   "codemirror_mode": {
    "name": "ipython",
    "version": 3
   },
   "file_extension": ".py",
   "mimetype": "text/x-python",
   "name": "python",
   "nbconvert_exporter": "python",
   "pygments_lexer": "ipython3",
   "version": "3.9.13"
  },
  "orig_nbformat": 4
 },
 "nbformat": 4,
 "nbformat_minor": 2
}
